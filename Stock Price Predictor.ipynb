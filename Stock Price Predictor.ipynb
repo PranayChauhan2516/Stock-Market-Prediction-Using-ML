{
 "cells": [
  {
   "cell_type": "code",
   "execution_count": 46,
   "metadata": {},
   "outputs": [],
   "source": [
    "# This program predicts stock prices by using machine learning models\n",
    "\n",
    "#Install the dependencies\n",
    "import quandl\n",
    "import numpy as np \n",
    "import matplotlib.pyplot as plt \n",
    "from sklearn.linear_model import LinearRegression\n",
    "from sklearn.svm import SVR\n",
    "from sklearn.model_selection import train_test_split\n",
    "import array"
   ]
  },
  {
   "cell_type": "code",
   "execution_count": 47,
   "metadata": {},
   "outputs": [
    {
     "name": "stdout",
     "output_type": "stream",
     "text": [
      "             Open   High    Low    Close       Volume  Ex-Dividend  \\\n",
      "Date                                                                 \n",
      "2012-05-18  42.05  45.00  38.00  38.2318  573576400.0          0.0   \n",
      "2012-05-21  36.53  36.66  33.00  34.0300  168192700.0          0.0   \n",
      "2012-05-22  32.61  33.59  30.94  31.0000  101786600.0          0.0   \n",
      "2012-05-23  31.37  32.50  31.36  32.0000   73600000.0          0.0   \n",
      "2012-05-24  32.95  33.21  31.77  33.0300   50237200.0          0.0   \n",
      "\n",
      "            Split Ratio  Adj. Open  Adj. High  Adj. Low  Adj. Close  \\\n",
      "Date                                                                  \n",
      "2012-05-18          1.0      42.05      45.00     38.00     38.2318   \n",
      "2012-05-21          1.0      36.53      36.66     33.00     34.0300   \n",
      "2012-05-22          1.0      32.61      33.59     30.94     31.0000   \n",
      "2012-05-23          1.0      31.37      32.50     31.36     32.0000   \n",
      "2012-05-24          1.0      32.95      33.21     31.77     33.0300   \n",
      "\n",
      "            Adj. Volume  \n",
      "Date                     \n",
      "2012-05-18  573576400.0  \n",
      "2012-05-21  168192700.0  \n",
      "2012-05-22  101786600.0  \n",
      "2012-05-23   73600000.0  \n",
      "2012-05-24   50237200.0  \n"
     ]
    }
   ],
   "source": [
    "#Get the stock data\n",
    "df = quandl.get(\"WIKI/FB\")\n",
    "# Take a look at the data\n",
    "print(df.head())"
   ]
  },
  {
   "cell_type": "code",
   "execution_count": 48,
   "metadata": {},
   "outputs": [
    {
     "name": "stdout",
     "output_type": "stream",
     "text": [
      "            Adj. Close\n",
      "Date                  \n",
      "2012-05-18     38.2318\n",
      "2012-05-21     34.0300\n",
      "2012-05-22     31.0000\n",
      "2012-05-23     32.0000\n",
      "2012-05-24     33.0300\n"
     ]
    }
   ],
   "source": [
    "# Get the Adjusted Close Price\n",
    "df = df[['Adj. Close']]\n",
    "#Take a look at the new data\n",
    "print(df.head())"
   ]
  },
  {
   "cell_type": "code",
   "execution_count": 49,
   "metadata": {},
   "outputs": [
    {
     "name": "stdout",
     "output_type": "stream",
     "text": [
      "            Adj. Close  Prediction\n",
      "Date                              \n",
      "2018-03-21      169.39         NaN\n",
      "2018-03-22      164.89         NaN\n",
      "2018-03-23      159.39         NaN\n",
      "2018-03-26      160.06         NaN\n",
      "2018-03-27      152.19         NaN\n"
     ]
    }
   ],
   "source": [
    "# A variable for predicting 'n' days out into the future\n",
    "forecast_out = 30 #'n=30' days\n",
    "#Create another column (the target or dependent variable) shifted 'n' units up\n",
    "df['Prediction'] = df[['Adj. Close']].shift(-forecast_out)\n",
    "#print the new data set\n",
    "print(df.tail())"
   ]
  },
  {
   "cell_type": "code",
   "execution_count": 50,
   "metadata": {},
   "outputs": [
    {
     "name": "stdout",
     "output_type": "stream",
     "text": [
      "[[ 38.2318]\n",
      " [ 34.03  ]\n",
      " [ 31.    ]\n",
      " ...\n",
      " [171.5499]\n",
      " [175.98  ]\n",
      " [176.41  ]]\n"
     ]
    }
   ],
   "source": [
    "### Create the independent data set (X)  #######\n",
    "# Convert the dataframe to a numpy array\n",
    "X = np.array(df.drop(['Prediction'],1))\n",
    "\n",
    "#Remove the last 'n' rows\n",
    "X = X[:-forecast_out]\n",
    "print(X)"
   ]
  },
  {
   "cell_type": "code",
   "execution_count": 51,
   "metadata": {},
   "outputs": [
    {
     "name": "stdout",
     "output_type": "stream",
     "text": [
      "[ 30.771  31.2    31.47  ... 159.39  160.06  152.19 ]\n"
     ]
    }
   ],
   "source": [
    "### Create the dependent data set (y)  #####\n",
    "# Convert the dataframe to a numpy array (All of the values including the NaN's)\n",
    "y = np.array(df['Prediction'])\n",
    "# Get all of the y values except the last 'n' rows\n",
    "y = y[:-forecast_out]\n",
    "print(y)"
   ]
  },
  {
   "cell_type": "code",
   "execution_count": 52,
   "metadata": {},
   "outputs": [],
   "source": [
    "# Split the data into 80% training and 20% testing\n",
    "x_train, x_test, y_train, y_test = train_test_split(X, y, test_size=0.2)"
   ]
  },
  {
   "cell_type": "code",
   "execution_count": 53,
   "metadata": {},
   "outputs": [
    {
     "data": {
      "text/plain": [
       "SVR(C=1000.0, cache_size=200, coef0=0.0, degree=3, epsilon=0.1, gamma=0.1,\n",
       "    kernel='rbf', max_iter=-1, shrinking=True, tol=0.001, verbose=False)"
      ]
     },
     "execution_count": 53,
     "metadata": {},
     "output_type": "execute_result"
    }
   ],
   "source": [
    "# Create and train the Support Vector Machine (Regressor)\n",
    "svr_rbf = SVR(kernel='rbf', C=1e3, gamma=0.1)\n",
    "svr_rbf.fit(x_train, y_train)"
   ]
  },
  {
   "cell_type": "code",
   "execution_count": 54,
   "metadata": {},
   "outputs": [
    {
     "name": "stdout",
     "output_type": "stream",
     "text": [
      "svm confidence:  0.9825573030511366\n"
     ]
    }
   ],
   "source": [
    "# Testing Model: Score returns the coefficient of determination R^2 of the prediction. \n",
    "# The best possible score is 1.0\n",
    "svm_confidence = svr_rbf.score(x_test, y_test)\n",
    "print(\"svm confidence: \", svm_confidence)"
   ]
  },
  {
   "cell_type": "code",
   "execution_count": 55,
   "metadata": {},
   "outputs": [
    {
     "data": {
      "text/plain": [
       "LinearRegression(copy_X=True, fit_intercept=True, n_jobs=None, normalize=False)"
      ]
     },
     "execution_count": 55,
     "metadata": {},
     "output_type": "execute_result"
    }
   ],
   "source": [
    "# Create and train the Linear Regression  Model\n",
    "lr = LinearRegression()\n",
    "# Train the model\n",
    "lr.fit(x_train, y_train)"
   ]
  },
  {
   "cell_type": "code",
   "execution_count": 56,
   "metadata": {},
   "outputs": [
    {
     "name": "stdout",
     "output_type": "stream",
     "text": [
      "lr confidence:  0.9829379738456094\n"
     ]
    }
   ],
   "source": [
    "# Testing Model: Score returns the coefficient of determination R^2 of the prediction. \n",
    "# The best possible score is 1.0\n",
    "lr_confidence = lr.score(x_test, y_test)\n",
    "print(\"lr confidence: \", lr_confidence)"
   ]
  },
  {
   "cell_type": "code",
   "execution_count": 57,
   "metadata": {},
   "outputs": [
    {
     "name": "stdout",
     "output_type": "stream",
     "text": [
      "[[173.15]\n",
      " [179.52]\n",
      " [179.96]\n",
      " [177.36]\n",
      " [176.01]\n",
      " [177.91]\n",
      " [178.99]\n",
      " [183.29]\n",
      " [184.93]\n",
      " [181.46]\n",
      " [178.32]\n",
      " [175.94]\n",
      " [176.62]\n",
      " [180.4 ]\n",
      " [179.78]\n",
      " [183.71]\n",
      " [182.34]\n",
      " [185.23]\n",
      " [184.76]\n",
      " [181.88]\n",
      " [184.19]\n",
      " [183.86]\n",
      " [185.09]\n",
      " [172.56]\n",
      " [168.15]\n",
      " [169.39]\n",
      " [164.89]\n",
      " [159.39]\n",
      " [160.06]\n",
      " [152.19]]\n"
     ]
    }
   ],
   "source": [
    "# Set x_forecast equal to the last 30 rows of the original data set from Adj. Close column\n",
    "x_forecast = np.array(df.drop(['Prediction'],1))[-forecast_out:]\n",
    "print(x_forecast)"
   ]
  },
  {
   "cell_type": "code",
   "execution_count": 58,
   "metadata": {},
   "outputs": [
    {
     "name": "stdout",
     "output_type": "stream",
     "text": [
      "[176.9140226  183.33935734 183.78317952 181.16059391 179.79886677\n",
      " 181.71537164 182.80475335 187.14210647 188.79635278 185.29620968\n",
      " 182.12893321 179.72825869 180.4141657  184.2270017  183.6016159\n",
      " 187.56575492 186.18385404 189.09895881 188.62487603 185.71985812\n",
      " 188.04992457 187.71705793 188.95774266 176.3188974  171.87058874\n",
      " 173.12136033 168.58226986 163.03449261 163.71031275 155.77194785]\n",
      "[174.76062528 179.05704024 178.24350066 175.22716595 175.02968407\n",
      " 177.11442098 179.62082515 186.59900787 179.4925104  181.93598847\n",
      " 178.55317872 175.13293646 174.34812836 177.9432396  178.55953314\n",
      " 184.42519295 186.9794699  179.63488369 179.67901617 184.6417288\n",
      " 181.69764244 183.54417365 179.49766897 175.96768213 172.95537789\n",
      " 172.6732365  172.24732789 167.8319844  166.95049991 161.96714387]\n"
     ]
    }
   ],
   "source": [
    "# Print linear regression model predictions for the next 'n' days\n",
    "lr_prediction = lr.predict(x_forecast)\n",
    "print(lr_prediction)\n",
    "\n",
    "# Print support vector regressor model predictions for the next 'n' days\n",
    "svm_prediction = svr_rbf.predict(x_forecast)\n",
    "print(svm_prediction)"
   ]
  },
  {
   "cell_type": "code",
   "execution_count": 59,
   "metadata": {},
   "outputs": [],
   "source": [
    "x=[1,2,3,4,5,6,7,8,9,10,11,12,13,14,15,16,17,18,19,20,21,22,23,24,25,26,27,28,29,30]"
   ]
  },
  {
   "cell_type": "code",
   "execution_count": 60,
   "metadata": {},
   "outputs": [
    {
     "data": {
      "text/plain": [
       "[1,\n",
       " 2,\n",
       " 3,\n",
       " 4,\n",
       " 5,\n",
       " 6,\n",
       " 7,\n",
       " 8,\n",
       " 9,\n",
       " 10,\n",
       " 11,\n",
       " 12,\n",
       " 13,\n",
       " 14,\n",
       " 15,\n",
       " 16,\n",
       " 17,\n",
       " 18,\n",
       " 19,\n",
       " 20,\n",
       " 21,\n",
       " 22,\n",
       " 23,\n",
       " 24,\n",
       " 25,\n",
       " 26,\n",
       " 27,\n",
       " 28,\n",
       " 29,\n",
       " 30]"
      ]
     },
     "execution_count": 60,
     "metadata": {},
     "output_type": "execute_result"
    }
   ],
   "source": [
    "x"
   ]
  },
  {
   "cell_type": "code",
   "execution_count": 63,
   "metadata": {},
   "outputs": [
    {
     "data": {
      "text/plain": [
       "Text(0.5, 1.0, 'Stock Market Predictor')"
      ]
     },
     "execution_count": 63,
     "metadata": {},
     "output_type": "execute_result"
    },
    {
     "data": {
      "image/png": "[encoded data removed]",
      "text/plain": [
       "<Figure size 432x288 with 1 Axes>"
      ]
     },
     "metadata": {
      "needs_background": "light"
     },
     "output_type": "display_data"
    }
   ],
   "source": [
    "plt.plot(x, lr_prediction)\n",
    "plt.plot(x, svm_prediction)\n",
    "plt.xlabel('Days') \n",
    "plt.ylabel('Stock Price')\n",
    "plt.title('Stock Market Predictor')"
   ]
  },
  {
   "cell_type": "code",
   "execution_count": null,
   "metadata": {},
   "outputs": [],
   "source": []
  }
 ],
 "metadata": {
  "kernelspec": {
   "display_name": "Python 3",
   "language": "python",
   "name": "python3"
  },
  "language_info": {
   "codemirror_mode": {
    "name": "ipython",
    "version": 3
   },
   "file_extension": ".py",
   "mimetype": "text/x-python",
   "name": "python",
   "nbconvert_exporter": "python",
   "pygments_lexer": "ipython3",
   "version": "3.7.3"
  }
 },
 "nbformat": 4,
 "nbformat_minor": 2
}
